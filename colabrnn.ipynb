{
  "nbformat": 4,
  "nbformat_minor": 0,
  "metadata": {
    "colab": {
      "name": "colabrnn.ipynb",
      "version": "0.3.2",
      "provenance": [],
      "collapsed_sections": [],
      "include_colab_link": true
    },
    "kernelspec": {
      "name": "python3",
      "display_name": "Python 3"
    },
    "accelerator": "GPU"
  },
  "cells": [
    {
      "cell_type": "markdown",
      "metadata": {
        "id": "view-in-github",
        "colab_type": "text"
      },
      "source": [
        "[View in Colaboratory](https://colab.research.google.com/github/demmojo/colabrnn/blob/master/colabrnn.ipynb)"
      ]
    },
    {
      "metadata": {
        "id": "ZwEWNRf8ZEOi",
        "colab_type": "text"
      },
      "cell_type": "markdown",
      "source": [
        "# Train your own text generator using a recurrent neural network with a GPU\n",
        "by [Mohamed Abdulaziz](https://www.mohamedabdulaziz.com/)\n",
        "\n",
        "Train either a bidirectional or normal LSTM recurrent neural network to generate text using any dataset.  **No need to write any code. Just upload your text file and click run!**\n",
        "\n",
        "You can generate text after your model has finished training as well! Also you can continue training a pre-trained model if it needs more accuracy.\n",
        "\n",
        "**The best part is that all of the training is conducted on a free GPU courtesy of Colaboratory!**\n",
        "\n",
        "For more information about the code used in this demo please check this github link.[github link](https://github.com/demmojo/colabrnn)\n",
        "\n"
      ]
    },
    {
      "metadata": {
        "id": "rimi-EESvGVP",
        "colab_type": "text"
      },
      "cell_type": "markdown",
      "source": [
        "## Before you begin\n",
        "\n",
        "Ensure you are running this in Google Chrome. \n",
        "\n",
        "Next, copy the notebook to your Google Drive to keep it as well as save your changes. \n",
        "\n",
        "Also, make sure you are using the GPU runtime type by clicking 'Runtime' in the toolbar above and then ''Change runtime type'. Check if the hardware accelerator is set to GPU.\n",
        "\n",
        "That's it! Run the next code cells!\n"
      ]
    },
    {
      "metadata": {
        "id": "At7H0K4Qe7SY",
        "colab_type": "code",
        "colab": {}
      },
      "cell_type": "code",
      "source": [
        "!git clone https://github.com/demmojo/colabrnn"
      ],
      "execution_count": 0,
      "outputs": []
    },
    {
      "metadata": {
        "id": "uBoHbZnTfl3a",
        "colab_type": "text"
      },
      "cell_type": "markdown",
      "source": [
        "The above code clones the github project on the Colaboratory VM. Next we will install the dependencies and import the necessary packages."
      ]
    },
    {
      "metadata": {
        "id": "SrzkCSSEcjsy",
        "colab_type": "code",
        "colab": {}
      },
      "cell_type": "code",
      "source": [
        "!pip install keras==2.2\n",
        "\n",
        "from google.colab import files\n",
        "import os"
      ],
      "execution_count": 0,
      "outputs": []
    },
    {
      "metadata": {
        "id": "j7cqqjbhsi3v",
        "colab_type": "text"
      },
      "cell_type": "markdown",
      "source": [
        "# What would you like to do?\n",
        "\n",
        "If you are training a new model we will upload a text file and colabrnn will use that to train and generate original text! \n",
        "\n",
        "## Train a new model\n",
        "\n",
        "Run the cell below and click ***Choose Files*** and select your files from your local computer. (Ideally, your text files should be quite large >1mb).\n",
        "\n",
        "Please note that the uploaded file is stored on the Colaboratory VM and** only you** have access to it.\n",
        "\n",
        "After uploading the file run the next cell to start the training process! You can see generated text as the training process goes on to see how your model is learning.\n",
        "\n",
        "If you prefer to change some parameters please do so before running the cell.\n",
        "\n",
        "## Retrain an old model\n",
        "\n",
        "Run the cell below and upload the weight, vocabulary and config files as well as the text file.\n",
        "\n",
        "After uploading the necessary model files (weight, vocabulary and config files) as well as the text file you can retrain your old model. \n",
        "\n",
        "Change the '***train_new_model***' variable to **False**. Then check whether the file names are correct before running the cell below.\n",
        "\n",
        "## Generate text using an old model (no retraining)\n",
        "\n",
        "After uploading the necessary model files (weight, vocabulary and config files) as well as the text file skip to the **'Generate text using your trained model'** section.\n",
        "\n",
        "Check whether the file names are correct before running the cell."
      ]
    },
    {
      "metadata": {
        "id": "UR2vf0nG_e2V",
        "colab_type": "code",
        "colab": {}
      },
      "cell_type": "code",
      "source": [
        "uploaded = files.upload()\n",
        "all_files = [(name, os.path.getmtime(name)) for name in os.listdir()]\n",
        "latest_uploaded_file = sorted(all_files, key=lambda x: -x[1])[0][0]"
      ],
      "execution_count": 0,
      "outputs": []
    },
    {
      "metadata": {
        "id": "1rQ4lFinceov",
        "colab_type": "code",
        "colab": {}
      },
      "cell_type": "code",
      "source": [
        "from colabrnn.rnn import CharGen\n",
        "from colabrnn.rnn.train_model import train\n",
        "\n",
        "train_new_model = True\n",
        "model_name = 'colab'\n",
        "\n",
        "if train_new_model:  # Create a new neural network model and train it\n",
        "    char_gen = CharGen(name=model_name)\n",
        "    train(text_filepath=latest_uploaded_file,\n",
        "          chargen=char_gen,\n",
        "          gen_text_length=500,  # Number of characters to be generated. Average number of characters in a word is approximately 5. (default 500)\n",
        "          num_epochs=10,  # One epoch is when an entire dataset is passed forward and backward through the neural network only once (default 10)\n",
        "          bidirectional=False,  # Boolean. Train using a bidirectional LSTM or unidirectional LSTM. See this coursera video for more information: https://www.coursera.org/lecture/nlp-sequence-models/bidirectional-rnn-fyXnn\n",
        "          rnn_size=128,  # Number of neurons in each layer of your neural network (default 128)\n",
        "          rnn_layers=3,  # Number of layers in your neural network (default 3)\n",
        "          batch_size=512,  # Total number of training examples present in a single batch. More is faster but there are memory constraints. If you are experiencing insufficient memory issues reduce this number. (default 512)\n",
        "          embedding_dims=75,  # Size of the embedding layer\n",
        "          train_new_model=True)\n",
        "\n",
        "    print(char_gen.model.summary())\n",
        "else:  # Continue training an old model\n",
        "    text_filename = 'shakespeare.txt'  # specify correct filename if you are retraining an old model\n",
        "    char_gen = CharGen(name=model_name,\n",
        "                      weights_filepath='colab_weights.hdf5',  # specify correct filename if you are retraining an old model\n",
        "                      vocab_filepath='colab_vocabulary.json',  # specify correct filename if you are retraining an old model\n",
        "                      config_filepath='colab_config.json')  # specify correct filename if you are retraining an old model\n",
        "    \n",
        "    train(text_filename, char_gen, train_new_model=False, num_epochs=10)  # change num_epochs to specify number of epochs to continue training\n"
      ],
      "execution_count": 0,
      "outputs": []
    },
    {
      "metadata": {
        "id": "QizcSnyvzGdR",
        "colab_type": "text"
      },
      "cell_type": "markdown",
      "source": [
        "## Save the model files\n",
        "\n",
        "Run the cell below to save the model files locally. You can upload them again later to retrain."
      ]
    },
    {
      "metadata": {
        "id": "CmmApybl3Btl",
        "colab_type": "code",
        "colab": {}
      },
      "cell_type": "code",
      "source": [
        "files.download('{}_weights.hdf5'.format(model_name))\n",
        "files.download('{}_vocabulary.json'.format(model_name))\n",
        "files.download('{}_config.json'.format(model_name))"
      ],
      "execution_count": 0,
      "outputs": []
    },
    {
      "metadata": {
        "id": "4HTTjr1rzYV9",
        "colab_type": "text"
      },
      "cell_type": "markdown",
      "source": [
        "## Generate text using your trained model!\n",
        "\n",
        "Run the cell below to generate samples of your trained model. \n",
        "\n",
        "You can specify the starting text  for the model by changing the ***prefix***  variable to use as the beginning of the generated text.\n",
        "\n",
        "You can also define how long you want your generated text to be by ***change gen_text_length*** variable.\n",
        "\n",
        "Have fun!"
      ]
    },
    {
      "metadata": {
        "id": "U_ioCslUzp21",
        "colab_type": "code",
        "colab": {}
      },
      "cell_type": "code",
      "source": [
        "from colabrnn.rnn import CharGen\n",
        "\n",
        "char_gen = CharGen(weights_filepath='colab_weights.hdf5',  # specify correct filename \n",
        "                   vocab_filepath='colab_vocabulary.json',  # specify correct filename\n",
        "                   config_filepath='colab_config.json')  # specify correct filename \n",
        "\n",
        "char_gen.generate(gen_text_length=500, prefix='To be or not to be,')"
      ],
      "execution_count": 0,
      "outputs": []
    },
    {
      "metadata": {
        "id": "ICV_FdOe6kvi",
        "colab_type": "text"
      },
      "cell_type": "markdown",
      "source": [
        "If at any time you would like to list the contents of the current directory use the following command:"
      ]
    },
    {
      "metadata": {
        "id": "14YJm4Hv1g41",
        "colab_type": "code",
        "colab": {
          "base_uri": "https://localhost:8080/",
          "height": 51
        },
        "outputId": "bfaa2fe0-eae6-48e7-cfc0-79eb26c8e26b"
      },
      "cell_type": "code",
      "source": [
        "!ls"
      ],
      "execution_count": 6,
      "outputs": [
        {
          "output_type": "stream",
          "text": [
            "colab_config.json  colab_vocabulary.json  datalab\r\n",
            "colabrnn\t   colab_weights.hdf5\t  shakespeare.txt\r\n"
          ],
          "name": "stdout"
        }
      ]
    },
    {
      "metadata": {
        "id": "910T4lEU6yhm",
        "colab_type": "text"
      },
      "cell_type": "markdown",
      "source": [
        "If you would like to restart or reset the Colaboratory VM you can run the following cell:"
      ]
    },
    {
      "metadata": {
        "id": "MRe7rzwzrUus",
        "colab_type": "code",
        "colab": {
          "base_uri": "https://localhost:8080/",
          "height": 37
        },
        "outputId": "3aa1e5e8-3148-438c-b423-19e1e219df37"
      },
      "cell_type": "code",
      "source": [
        "!kill -9 -1"
      ],
      "execution_count": 0,
      "outputs": []
    },
    {
      "metadata": {
        "id": "bEqZBUMp7J3f",
        "colab_type": "text"
      },
      "cell_type": "markdown",
      "source": [
        "### If you have any suggestions or would like to leave a comment please do so at https://www.mohamedabdulaziz.com/\n",
        "\n",
        "### You can also check out my other projects on [Github](https://github.com/demmojo)."
      ]
    }
  ]
}